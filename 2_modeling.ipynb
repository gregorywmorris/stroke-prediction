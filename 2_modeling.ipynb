{
  "cells": [
    {
      "cell_type": "code",
      "execution_count": null,
      "metadata": {
        "cellView": "form",
        "colab": {
          "base_uri": "https://localhost:8080/",
          "height": 34
        },
        "id": "JJzJI1-3ZR81",
        "outputId": "e2fbd50d-cb0d-4ecd-f008-78dd7011e98f"
      },
      "outputs": [],
      "source": [
        "#Auto-save / Auto-reload\n",
        "%autosave 1\n",
        "\n",
        "%load_ext autoreload\n",
        "%autoreload 2"
      ]
    },
    {
      "cell_type": "markdown",
      "metadata": {},
      "source": [
        "# Imports"
      ]
    },
    {
      "cell_type": "code",
      "execution_count": null,
      "metadata": {},
      "outputs": [],
      "source": [
        "import os\n",
        "\n",
        "# for EDA\n",
        "import requests\n",
        "import wget\n",
        "import pylab\n",
        "import pandas as pd\n",
        "import numpy as np\n",
        "\n",
        "# visualization\n",
        "import seaborn as sns\n",
        "import matplotlib.pyplot as plt\n",
        "import scikitplot as skplt # https://scikit-plot.readthedocs.io/en/stable/Quickstart.htm\n",
        "from IPython.display import display\n",
        "\n",
        "# models\n",
        "from sklearn.linear_model import LogisticRegression\n",
        "from sklearn.tree import DecisionTreeClassifier\n",
        "from sklearn.ensemble import RandomForestClassifier, AdaBoostClassifier\n",
        "from sklearn.neighbors import KNeighborsClassifier\n",
        "from sklearn.discriminant_analysis import LinearDiscriminantAnalysis\n",
        "from sklearn.svm import SVC\n",
        "from xgboost import XGBClassifier\n",
        "from catboost import CatBoostClassifier\n",
        "from sklearn.naive_bayes import ComplementNB\n",
        "\n",
        "# tuning and metrics\n",
        "from sklearn.feature_extraction import DictVectorizer\n",
        "from sklearn.model_selection import KFold\n",
        "from sklearn.model_selection import train_test_split\n",
        "from sklearn.metrics import accuracy_score, classification_report, roc_curve, precision_recall_curve, auc, confusion_matrix, roc_auc_score\n",
        "from imblearn.over_sampling import SMOTE\n",
        "from sklearn.feature_selection import RFECV\n",
        "from sklearn.feature_selection import RFE\n",
        "from sklearn.model_selection import RepeatedStratifiedKFold\n",
        "from sklearn.model_selection import GridSearchCV\n",
        "from sklearn.metrics import mutual_info_score\n",
        "\n",
        "# Deployment\n",
        "import bentoml\n",
        "\n",
        "# still need?\n",
        "from sklearn.metrics import mean_squared_error as rmse\n",
        "from sklearn.metrics import f1_score\n",
        "from sklearn.model_selection import cross_val_score\n"
      ]
    },
    {
      "cell_type": "code",
      "execution_count": null,
      "metadata": {},
      "outputs": [],
      "source": [
        "df = pd.read_csv('./data/healthcare-dataset-stroke-data-df.csv')\n",
        "df2 = pd.read_csv('./data/healthcare-dataset-stroke-data-df2.csv')"
      ]
    },
    {
      "cell_type": "markdown",
      "metadata": {
        "id": "cfeBd0Hfri4a"
      },
      "source": [
        "# Modeling"
      ]
    },
    {
      "cell_type": "markdown",
      "metadata": {
        "id": "jKF-0sXIsiTR"
      },
      "source": [
        "The modeling proccess is to first test possable viable models, then select the best models, and create a baseline to compare the tuning process against."
      ]
    },
    {
      "cell_type": "markdown",
      "metadata": {
        "id": "Y267t4TiEQCX"
      },
      "source": [
        "**Linear Regression** is a poor choice for clasification output problems and better suited for continuous output problems. While the label is binary the model could provide values outside of that range."
      ]
    },
    {
      "cell_type": "markdown",
      "metadata": {
        "id": "WWDlkCiQe1V6"
      },
      "source": [
        "Researching ML models and the general concesses from ML engineers show the following models best for our label which is a binary classifier (stroke 1 or 0). There are numerous articles and research papers but this [article](https://towardsdatascience.com/pros-and-cons-of-various-classification-ml-algorithms-3b5bfb3c87d6) and this [article](https://towardsdatascience.com/top-10-binary-classification-algorithms-a-beginners-guide-feeacbd7a3e2) sum up the reasoning."
      ]
    },
    {
      "cell_type": "markdown",
      "metadata": {
        "id": "Tw2XclhVwTEq"
      },
      "source": [
        "### Data Prep"
      ]
    },
    {
      "cell_type": "markdown",
      "metadata": {
        "id": "WxxtvJ955Zvk"
      },
      "source": [
        "#### DF"
      ]
    },
    {
      "cell_type": "code",
      "execution_count": null,
      "metadata": {
        "cellView": "form",
        "id": "00y5hYJV1EV_"
      },
      "outputs": [],
      "source": [
        "#@title Split: df_train / df_val\n",
        "\n",
        "df_full_train, df_val = train_test_split(df, test_size=0.2, random_state=1)\n",
        "df_train, df_test = train_test_split(df_full_train, test_size=0.25, random_state=1)\n",
        "\n",
        "df_train = df_train.reset_index(drop=True)\n",
        "df_val = df_val.reset_index(drop=True)\n",
        "df_test = df_test.reset_index(drop=True)\n",
        "\n",
        "y_train = df_train.stroke.values\n",
        "y_val = df_val.stroke.values\n",
        "y_test = df_test.stroke.values\n",
        "\n",
        "del df_train['stroke']\n",
        "del df_val['stroke']\n",
        "del df_test['stroke']"
      ]
    },
    {
      "cell_type": "code",
      "execution_count": null,
      "metadata": {
        "cellView": "form",
        "id": "-3mpA7-DzmDL"
      },
      "outputs": [],
      "source": [
        "#@title x_train\n",
        "\n",
        "train_dict = df_train.to_dict(orient='records')\n",
        "\n",
        "dv = DictVectorizer(sparse=False)\n",
        "x_train = dv.fit_transform(train_dict)\n"
      ]
    },
    {
      "cell_type": "code",
      "execution_count": null,
      "metadata": {
        "colab": {
          "base_uri": "https://localhost:8080/"
        },
        "id": "rlvB8oSI_DiS",
        "outputId": "72ca2087-bf3e-42a7-96be-2d0d71ae0b72"
      },
      "outputs": [],
      "source": [
        "x_train.shape, y_train.shape"
      ]
    },
    {
      "cell_type": "code",
      "execution_count": null,
      "metadata": {
        "cellView": "form",
        "id": "KEcQI2w7U8il"
      },
      "outputs": [],
      "source": [
        "#@title x_val\n",
        "\n",
        "val_dict = df_val.to_dict(orient='records')\n",
        "x_val = dv.transform(val_dict)"
      ]
    },
    {
      "cell_type": "code",
      "execution_count": null,
      "metadata": {
        "cellView": "form",
        "id": "lXS0qieSz2__"
      },
      "outputs": [],
      "source": [
        "#@title x_test\n",
        "\n",
        "test_dict = df_test.to_dict(orient='records')\n",
        "x_test = dv.transform(test_dict)"
      ]
    },
    {
      "cell_type": "markdown",
      "metadata": {
        "id": "E8Sr6xBC5dZf"
      },
      "source": [
        "#### DF2"
      ]
    },
    {
      "cell_type": "code",
      "execution_count": null,
      "metadata": {
        "id": "dNnDWBS35uGZ"
      },
      "outputs": [],
      "source": [
        "#@title Split: df2_train / df2_val / df2_test\n",
        "\n",
        "df2_full_train, df2_val = train_test_split(df2, test_size=0.2, random_state=1)\n",
        "df2_train, df2_test = train_test_split(df2_full_train, test_size=0.25, random_state=1)\n",
        "\n",
        "df2_train = df2_train.reset_index(drop=True)\n",
        "df2_val = df2_val.reset_index(drop=True)\n",
        "df2_test = df2_test.reset_index(drop=True)\n",
        "\n",
        "y_train2 = df2_train.stroke.values\n",
        "y_val2 = df2_val.stroke.values\n",
        "y_test2 = df2_test.stroke.values\n",
        "\n",
        "del df2_train['stroke']\n",
        "del df2_val['stroke']\n",
        "del df2_test['stroke']"
      ]
    },
    {
      "cell_type": "code",
      "execution_count": null,
      "metadata": {
        "id": "FJwYBe-y6Y9a"
      },
      "outputs": [],
      "source": [
        "#@title x_val2\n",
        "\n",
        "val2_dict = df2_val.to_dict(orient='records')\n",
        "x_val2 = dv.transform(val2_dict)"
      ]
    },
    {
      "cell_type": "code",
      "execution_count": null,
      "metadata": {
        "id": "kXolWZcY6PeP"
      },
      "outputs": [],
      "source": [
        "#@title x_train2\n",
        "\n",
        "train2_dict = df2_train.to_dict(orient='records')\n",
        "\n",
        "dv = DictVectorizer(sparse=False)\n",
        "x_train2 = dv.fit_transform(train2_dict)\n"
      ]
    },
    {
      "cell_type": "code",
      "execution_count": null,
      "metadata": {
        "id": "RIveIugA-h1L"
      },
      "outputs": [],
      "source": [
        "#@title x_test2\n",
        "\n",
        "test2_dict = df2_test.to_dict(orient='records')\n",
        "x_test2 = dv.transform(test2_dict)"
      ]
    },
    {
      "cell_type": "markdown",
      "metadata": {
        "id": "A-jrmHkLuXMZ"
      },
      "source": [
        "### Model Comparison"
      ]
    },
    {
      "cell_type": "code",
      "execution_count": null,
      "metadata": {
        "cellView": "form",
        "id": "G8LCQNdtteYl"
      },
      "outputs": [],
      "source": [
        "#@title def model_run(models)\n",
        "\n",
        "def model_run(models,x_train,y_train,x_val,y_val):\n",
        "  for name, model in models:\n",
        "      model = model\n",
        "      model.fit(x_train, y_train)\n",
        "\n",
        "      print(\" \")\n",
        "      print(\"Model: \",name)\n",
        "      print('Validation Accuracy: ', accuracy_score(y_val, model.predict(x_val)))\n",
        "      print('Training Accuracy: ', accuracy_score(y_train, model.predict(x_train)))\n",
        "      print(\" \")\n",
        "\n",
        "      plt.figure()\n",
        "      cf_matrix = confusion_matrix(y_val, model.predict(x_val))\n",
        "      sns.heatmap(cf_matrix, annot = True, fmt = 'g', cmap = sns.cubehelix_palette(as_cmap=True))\n",
        "      plt.title('Confusion Matrix: {}'.format(name))\n",
        "      plt.xticks([0.5, 1.5], ['Predicted Non-Stroke', 'Predicted Stroke'])\n",
        "      plt.yticks([0.5, 1.5], ['Actual Non-Stroke', 'Actual Stroke'])\n",
        "      plt.show()\n",
        "\n",
        "      print(\" \")\n",
        "\n",
        "      skplt.metrics.plot_roc(y_val, model.predict_proba(x_val))\n",
        "      plt.title('ROC Curves: {}'.format(name))\n",
        "      plt.show()"
      ]
    },
    {
      "cell_type": "code",
      "execution_count": null,
      "metadata": {
        "cellView": "form",
        "id": "_NOB-C5lwY_S"
      },
      "outputs": [],
      "source": [
        "#@title Model Selection\n",
        "start_models = [('Logistic Regression', LogisticRegression(max_iter=4000,random_state=10)), # max_iter=4000 due to convergence error\n",
        "          ('Decision Tree Classifier', DecisionTreeClassifier(random_state=10)),\n",
        "          ('Random Forest', RandomForestClassifier(random_state=10)),\n",
        "          ('Linear Discriminant Analyzer', LinearDiscriminantAnalysis()),\n",
        "          ('Ada Boost', AdaBoostClassifier(random_state=1)),\n",
        "          ('KNN', KNeighborsClassifier()),\n",
        "          ('Support Vector Machine', SVC(probability =True, random_state=10)),\n",
        "          ('XG Boost', XGBClassifier(random_state=10)),\n",
        "          ('Cat Boost', CatBoostClassifier(logging_level = 'Silent')),\n",
        "          ('Naive Bayes', ComplementNB())]"
      ]
    },
    {
      "cell_type": "markdown",
      "metadata": {
        "id": "rAKtAKiWbp8V"
      },
      "source": [
        "Logisitc Regression interation increased to resolve [convergence error](https://stackoverflow.com/questions/62658215/convergencewarning-lbfgs-failed-to-converge-status-1-stop-total-no-of-iter)"
      ]
    },
    {
      "cell_type": "markdown",
      "metadata": {
        "id": "lp-6KSXeWPSE"
      },
      "source": [
        "#### DF all models"
      ]
    },
    {
      "cell_type": "code",
      "execution_count": null,
      "metadata": {
        "cellView": "form",
        "colab": {
          "base_uri": "https://localhost:8080/"
        },
        "id": "RjYtJelEwlz8",
        "outputId": "a1f10eca-ee25-420f-81f4-549b4ef8916b"
      },
      "outputs": [],
      "source": [
        "#@title Run all models\n",
        "model_run(start_models,x_train,y_train,x_val,y_val)"
      ]
    },
    {
      "cell_type": "markdown",
      "metadata": {
        "id": "lNOU69R8WSYL"
      },
      "source": [
        "#### DF2 all models"
      ]
    },
    {
      "cell_type": "code",
      "execution_count": null,
      "metadata": {
        "colab": {
          "base_uri": "https://localhost:8080/"
        },
        "id": "cDnMrR2B7tVN",
        "outputId": "5fc770fc-0319-448e-9b7d-1f46adbf8e1f"
      },
      "outputs": [],
      "source": [
        "#@title Run all models 2\n",
        "model_run(start_models,x_train2,y_train2,x_val2,y_val2)"
      ]
    },
    {
      "cell_type": "markdown",
      "metadata": {
        "id": "5Z07ni3LTryx"
      },
      "source": [
        "Poor overall score, likely due to data imbalance. Actual stroke prediction is 82-89% accurate. With SVM having the best performance."
      ]
    },
    {
      "cell_type": "markdown",
      "metadata": {
        "id": "yGnq8YltSxJ2"
      },
      "source": [
        "### SMOTE\n",
        "\n",
        "Oversampling with SMOTE"
      ]
    },
    {
      "cell_type": "code",
      "execution_count": null,
      "metadata": {
        "id": "pxfUpGq4S2SS"
      },
      "outputs": [],
      "source": [
        "#@title def training_smote(x,y) - to address the stroke imbalance\n",
        "\n",
        "# ONLY APPLY SMOTE TO TRAIN!\n",
        "def training_smote(x,y):\n",
        "    smt = SMOTE(random_state=42,sampling_strategy='minority')\n",
        "    a, b = smt.fit_resample(x,y)\n",
        "\n",
        "    return a, b"
      ]
    },
    {
      "cell_type": "code",
      "execution_count": null,
      "metadata": {
        "id": "aBLEjkvNSzaX"
      },
      "outputs": [],
      "source": [
        "x_train_smt, y_train_smt = training_smote(x_train, y_train)"
      ]
    },
    {
      "cell_type": "code",
      "execution_count": null,
      "metadata": {
        "colab": {
          "base_uri": "https://localhost:8080/"
        },
        "id": "WyOpqvvh9pqt",
        "outputId": "e2821b77-9cfe-4a15-81ed-a3625eba5852"
      },
      "outputs": [],
      "source": [
        "x_train_smt.shape"
      ]
    },
    {
      "cell_type": "code",
      "execution_count": null,
      "metadata": {
        "id": "I_MORpQ78axd"
      },
      "outputs": [],
      "source": [
        "x_train2_smt, y_train2_smt = training_smote(x_train2, y_train2)"
      ]
    },
    {
      "cell_type": "code",
      "execution_count": null,
      "metadata": {
        "colab": {
          "base_uri": "https://localhost:8080/"
        },
        "id": "yjwRAhPu-W-0",
        "outputId": "c3915969-c2e1-49f2-af92-7fc68f667610"
      },
      "outputs": [],
      "source": [
        "len(x_train2)"
      ]
    },
    {
      "cell_type": "markdown",
      "metadata": {
        "id": "OUlbAs0VJCCi"
      },
      "source": [
        "SMOTE is not able to generate data"
      ]
    },
    {
      "cell_type": "markdown",
      "metadata": {
        "id": "yk5sgt57EEsV"
      },
      "source": [
        "### All Models"
      ]
    },
    {
      "cell_type": "markdown",
      "metadata": {
        "id": "O1rzKIO6V5uE"
      },
      "source": [
        "#### SMOTE DF all models"
      ]
    },
    {
      "cell_type": "code",
      "execution_count": null,
      "metadata": {
        "cellView": "form",
        "colab": {
          "base_uri": "https://localhost:8080/"
        },
        "id": "8ZqKoUMCUsfa",
        "outputId": "094a22c5-ae4f-499b-9fff-8ac4ecd23d00"
      },
      "outputs": [],
      "source": [
        "#@title Run all models\n",
        "model_run(start_models,x_train_smt,y_train_smt,x_val,y_val)"
      ]
    },
    {
      "cell_type": "markdown",
      "metadata": {
        "id": "E_VWzxYxV9pE"
      },
      "source": [
        "#### SMOTE DF2 all models"
      ]
    },
    {
      "cell_type": "code",
      "execution_count": null,
      "metadata": {
        "colab": {
          "base_uri": "https://localhost:8080/"
        },
        "id": "A9IPYCDI8roJ",
        "outputId": "773f511c-80cb-4356-eadf-7cf562456c57"
      },
      "outputs": [],
      "source": [
        "#@title Run all models 2\n",
        "model_run(start_models,x_train2_smt,y_train2_smt,x_val2,y_val2)"
      ]
    },
    {
      "cell_type": "markdown",
      "metadata": {
        "id": "_3aXt813JvuU"
      },
      "source": [
        "## Best Performing Models"
      ]
    },
    {
      "cell_type": "markdown",
      "metadata": {
        "id": "MRq0XxMnJ7Ms"
      },
      "source": [
        "While the score may not be the highest, these models were the best at predicting a stroke. The trade off is lower non-stroke accuracy. In the case of healthcare, we would rather over capture non-stroke than miss actual strokes.\n",
        "\n",
        "The df2 (more generalized data) and the SMOTE data increased accuracy.\n",
        "\n",
        "Naive Bayes had the best Stroke possiitive prediction but the non-stroke prediction was so poor I am not sure that it is usable in production."
      ]
    },
    {
      "cell_type": "code",
      "execution_count": null,
      "metadata": {
        "cellView": "form",
        "id": "jXi71xwlkH12"
      },
      "outputs": [],
      "source": [
        "#@title Selected Models\n",
        "best_models = [('Logistic Regression', LogisticRegression(max_iter=1000, random_state=10)),\n",
        "          ('Linear Discriminant Analyzer', LinearDiscriminantAnalysis()),\n",
        "          ('Support Vector Machine', SVC(probability = True,random_state=10)),\n",
        "          ('Naive Bayes', ComplementNB())]"
      ]
    },
    {
      "cell_type": "code",
      "execution_count": null,
      "metadata": {
        "colab": {
          "base_uri": "https://localhost:8080/",
          "height": 1000
        },
        "id": "EzBOLdk3j_Pj",
        "outputId": "8b46b5c3-c206-409f-b4b0-f117d4af0155"
      },
      "outputs": [],
      "source": [
        "model_run(best_models, x_train2_smt,y_train2_smt,x_val2,y_val2)"
      ]
    },
    {
      "cell_type": "markdown",
      "metadata": {
        "id": "4eCPd6NIrl21"
      },
      "source": [
        "<a name=\"tuning\"></a>\n",
        "# Tuning"
      ]
    },
    {
      "cell_type": "markdown",
      "metadata": {
        "id": "1cKfexbBsJGC"
      },
      "source": [
        "The tuning process consists of adjusting and measuring model parameters, and, if needed, revisiting feature engineering."
      ]
    },
    {
      "cell_type": "markdown",
      "metadata": {
        "id": "EQOX4xAmvj5F"
      },
      "source": [
        "**Best Preforming Model**\n",
        "\n",
        "\n",
        "Comparison of the models in the variable `selected_models`:\n",
        "\n",
        "* **Logistic Regression**, `LogisticRegression()`\n",
        "  * Validation Accuracy:     ~0.729\n",
        "  * Training Accuracy:       ~0.781\n",
        "  * Stroke Possitive Missed: 8/52\n",
        "* **Linear Discriminant Analyzer**, `LinearDiscriminantAnalysis()`\n",
        "  * Validation Accuracy:     ~0.714\n",
        "  * Training Accuracy:       ~0.782\n",
        "  * Stroke Possitive Missed: 5/55\n",
        "* **Support Vector Machine**, `SVC(probability = True)`\n",
        "  * Validation Accuracy:     ~0.669\n",
        "  * Training Accuracy:       ~0.763\n",
        "  * Stroke Possitive Missed: 5/55\n",
        "* **Naive Bays**, `ComplementNB()`\n",
        "  * Validation Accuracy:     ~0.497\n",
        "  * Training Accuracy:       ~0.733\n",
        "  * Stroke Possitive Missed: 2/58"
      ]
    },
    {
      "cell_type": "markdown",
      "metadata": {
        "id": "Isd9NLBYPYej"
      },
      "source": [
        "<a name=\"feat_imp\"></a>\n",
        "## Feature Importance - [article](https://machinelearningmastery.com/calculate-feature-importance-with-python/)"
      ]
    },
    {
      "cell_type": "markdown",
      "metadata": {
        "id": "aOtqJNmtMPNb"
      },
      "source": [
        "## Feature Importance Model"
      ]
    },
    {
      "cell_type": "code",
      "execution_count": null,
      "metadata": {
        "id": "RPpXUe2NKrrl"
      },
      "outputs": [],
      "source": [
        "my_list = [LogisticRegression(max_iter=4000, random_state=10),LinearDiscriminantAnalysis()]"
      ]
    },
    {
      "cell_type": "code",
      "execution_count": null,
      "metadata": {
        "cellView": "form",
        "colab": {
          "base_uri": "https://localhost:8080/"
        },
        "id": "np4qhKDQTarl",
        "outputId": "4cc6a770-8042-4653-8ef6-e82acdfbae0c"
      },
      "outputs": [],
      "source": [
        "#@title Feature Rank\n",
        "for model in my_list:\n",
        "    rfe = RFECV(estimator=model,step=1,cv=5)\n",
        "    rfe.fit(x_train2_smt,y_train2_smt)\n",
        "    print(\" \")\n",
        "    print(model)\n",
        "    print(\" \")\n",
        "    for j, col, in zip(range(df.shape[1]), df.columns):\n",
        "      print(f'{col} selected= {rfe.support_[1]} rank= {rfe.ranking_[1]}')"
      ]
    },
    {
      "cell_type": "markdown",
      "metadata": {
        "id": "7_qGaUWEWM91"
      },
      "source": [
        "None of the features show a higher rank than the others."
      ]
    },
    {
      "cell_type": "code",
      "execution_count": null,
      "metadata": {
        "cellView": "form",
        "id": "fD3q3beVOD3n"
      },
      "outputs": [],
      "source": [
        "#@title Get Feature Names\n",
        "\n",
        "feat_names = dv.get_feature_names_out()"
      ]
    },
    {
      "cell_type": "code",
      "execution_count": null,
      "metadata": {
        "cellView": "form",
        "id": "To3AZO8lUzSv"
      },
      "outputs": [],
      "source": [
        "#@title def feature_importance(model)\n",
        "def feature_importance(model):\n",
        "    # define the model\n",
        "    model = model\n",
        "    # fit the model\n",
        "    model.fit(x_train2_smt, y_train2_smt)\n",
        "    # get importance\n",
        "    importance = model.coef_[0]\n",
        "    # summarize feature importance\n",
        "    for i,v in enumerate(importance):\n",
        "        print(f'Feature: {feat_names[i]}',' ',f'Score: {v}\\n')"
      ]
    },
    {
      "cell_type": "code",
      "execution_count": null,
      "metadata": {
        "cellView": "form",
        "colab": {
          "base_uri": "https://localhost:8080/"
        },
        "id": "q8aUdaisU3gn",
        "outputId": "e9bd06f3-002c-4d4a-85ea-01d88d09b4eb"
      },
      "outputs": [],
      "source": [
        "#@title Logistic Feature coefficients\n",
        "\n",
        "feature_importance(LogisticRegression(max_iter=4000, random_state=10))"
      ]
    },
    {
      "cell_type": "code",
      "execution_count": null,
      "metadata": {
        "cellView": "form",
        "colab": {
          "base_uri": "https://localhost:8080/"
        },
        "id": "z3LZ3YgzU6vn",
        "outputId": "63742725-1684-4cad-f162-e8a12ad53151"
      },
      "outputs": [],
      "source": [
        "#@title Linear Discriminant Feature coefficients\n",
        "\n",
        "feature_importance(LinearDiscriminantAnalysis())\n",
        "\n",
        "# plot feature importance\n",
        "#pyplot.bar([x for x in range(len(importance))], importance)\n",
        "#pyplot.show()"
      ]
    },
    {
      "cell_type": "markdown",
      "metadata": {
        "id": "AWWDBiH9VD0u"
      },
      "source": [
        "**NOTE:** Reading too much into coeficients can be dangerious as the relaitonships can be complex.\n",
        "\n",
        "Heart_disease, Diabetes, and hypertension were all possitively correlated with stroke. This is consistent with studies showing that these diseases greatly increase your likelihood of having a stroke. [Cardiovascular risk factors](https://www.ncbi.nlm.nih.gov/pmc/articles/PMC4419105/) / [Diabetes and Stroke: Epidemiology, Pathophysiology, Pharmaceuticals and Outcomes](https://www.ncbi.nlm.nih.gov/pmc/articles/PMC5298897/#:~:text=Diabetes%20is%20a%20well%2Destablished,stroke%20with%20uncontrolled%20glucose%20levels.)\n",
        "\n",
        "The second highest possitive coefficients is for work_type=children despte research showing that stroke in children is [rare](https://www.hopkinsmedicine.org/health/conditions-and-diseases/stroke/pediatric-stroke).\n",
        "\n",
        "The obese feature may be confusing the models, as we are seeing inconsistent accounting for it, despite it being a known to increase the likelyhood of stroke. This may be a feature that is only positive when paired with other features. [Obesity and Stroke: Does the Paradox Apply for Stroke?](https://www.ncbi.nlm.nih.gov/pmc/articles/PMC7946563/).\n",
        "\n",
        "The negative coeficient for smokes (in logistic regression) is also intersting, as we know it leads to hypertension and heart disease. It is likely only positive when combined with hypertension and/or heart disease."
      ]
    },
    {
      "cell_type": "code",
      "execution_count": null,
      "metadata": {
        "colab": {
          "base_uri": "https://localhost:8080/"
        },
        "id": "IQ2B-xxxVBTu",
        "outputId": "3035f47b-b290-41d2-c3be-b531167a6f2f"
      },
      "outputs": [],
      "source": [
        "df2[df2.work_type == 'children'].stroke.value_counts()"
      ]
    },
    {
      "cell_type": "markdown",
      "metadata": {
        "id": "crsNfvKqqGZP"
      },
      "source": [
        "It may be better to remove the children type and limit age to 18+; creating an adult only model. It is reasonable that children would need a model specific to them."
      ]
    },
    {
      "cell_type": "markdown",
      "metadata": {
        "id": "ZnWKsW4mMWeb"
      },
      "source": [
        "## Feature Importance Data"
      ]
    },
    {
      "cell_type": "code",
      "execution_count": null,
      "metadata": {
        "cellView": "form",
        "colab": {
          "base_uri": "https://localhost:8080/"
        },
        "id": "3T0t6jt7CvsA",
        "outputId": "f927aefc-cfcf-48e7-8a21-46fe87b1b053"
      },
      "outputs": [],
      "source": [
        "#@title Sample Stroke Rate\n",
        "stroke_rate = df.stroke.mean() # works because it is binary\n",
        "round(stroke_rate,2)"
      ]
    },
    {
      "cell_type": "code",
      "execution_count": null,
      "metadata": {
        "colab": {
          "base_uri": "https://localhost:8080/"
        },
        "id": "W4kNUezuQ_pi",
        "outputId": "4f796fa6-569c-4881-d173-8530a68ffb47"
      },
      "outputs": [],
      "source": [
        "df2.info()"
      ]
    },
    {
      "cell_type": "code",
      "execution_count": null,
      "metadata": {
        "id": "ErLvle5pgIPY"
      },
      "outputs": [],
      "source": [
        "categorical = ['gender','hypertension','heart_disease','ever_married','work_type','residence_type','smoking_status','obese','diabetes']"
      ]
    },
    {
      "cell_type": "code",
      "execution_count": null,
      "metadata": {
        "colab": {
          "base_uri": "https://localhost:8080/",
          "height": 1000
        },
        "id": "ju_C1BCZ0Nqv",
        "outputId": "75495428-6660-4b57-9ca0-1b7bf38c405f"
      },
      "outputs": [],
      "source": [
        "#@title Feature Importance Breakdown\n",
        "\n",
        "for c in categorical:\n",
        "    print(c)\n",
        "    df_group = df2.groupby(c).stroke.agg(['mean','count'])\n",
        "    df_group['diff'] = df_group['mean'] - stroke_rate # difference between group and overall stroke rate\n",
        "    df_group['risk'] = df_group['mean'] / stroke_rate # group risk relative to overall risk\n",
        "    display(df_group)\n",
        "    print('\\n')"
      ]
    },
    {
      "cell_type": "markdown",
      "metadata": {
        "id": "QSYRIN-QDXuU"
      },
      "source": [
        "The most most interesting thing here is we can see that the stroke risk reletive to the group risk is consistent with expectations."
      ]
    },
    {
      "cell_type": "code",
      "execution_count": null,
      "metadata": {
        "id": "8QWXZkgCeXIq"
      },
      "outputs": [],
      "source": [
        "def mutual_stroke(series):\n",
        "    return mutual_info_score(series,df2['stroke'])"
      ]
    },
    {
      "cell_type": "code",
      "execution_count": null,
      "metadata": {
        "colab": {
          "base_uri": "https://localhost:8080/"
        },
        "id": "fXz2P-hbeG1Z",
        "outputId": "49621841-76d6-4650-bc90-b9eaa8288d7c"
      },
      "outputs": [],
      "source": [
        "mi = df2[categorical].apply(mutual_stroke)\n",
        "mi.sort_values(ascending=False)"
      ]
    },
    {
      "cell_type": "markdown",
      "metadata": {
        "id": "ElDflyGYBBR0"
      },
      "source": [
        "We can see that the categories are independant, this is expected."
      ]
    },
    {
      "cell_type": "code",
      "execution_count": null,
      "metadata": {
        "colab": {
          "base_uri": "https://localhost:8080/"
        },
        "id": "0aZ-CW8j8b9M",
        "outputId": "48c360e0-bcea-4415-bbdb-b211e0aa9cad"
      },
      "outputs": [],
      "source": [
        "#@title Feature Stroke Correlation\n",
        "df2.corr(numeric_only = True)['stroke'].sort_values(ascending=False).iloc[1:] # if using different dataframes, use df1.corrwith(df2)"
      ]
    },
    {
      "cell_type": "markdown",
      "metadata": {
        "id": "qGcAgYpV8u1S"
      },
      "source": [
        "**Note:** obese is a bool value and should not show in this list."
      ]
    },
    {
      "cell_type": "markdown",
      "metadata": {
        "id": "aWirm5wqMvKO"
      },
      "source": [
        "## Feature Importance Testing\n",
        "\n",
        "\n"
      ]
    },
    {
      "cell_type": "markdown",
      "metadata": {
        "id": "oXRrtwYdT13s"
      },
      "source": [
        "**Hypothesis:** better prediction can be obtained by excluding children value."
      ]
    },
    {
      "cell_type": "code",
      "execution_count": null,
      "metadata": {
        "id": "KhUAcZXH-MQh"
      },
      "outputs": [],
      "source": [
        "df2_adult = df2.copy()"
      ]
    },
    {
      "cell_type": "code",
      "execution_count": null,
      "metadata": {
        "id": "RW1gHc2a8kUI"
      },
      "outputs": [],
      "source": [
        "child = df2_adult[(df2_adult['work_type']=='Other')].index\n",
        "df2_adult.drop(child, inplace=True)"
      ]
    },
    {
      "cell_type": "code",
      "execution_count": null,
      "metadata": {
        "id": "jMUCyePt9aRd"
      },
      "outputs": [],
      "source": [
        "age18 = df2[(df['age']<18)].index\n",
        "df2_adult.drop(age18,inplace=True)"
      ]
    },
    {
      "cell_type": "code",
      "execution_count": null,
      "metadata": {
        "colab": {
          "base_uri": "https://localhost:8080/",
          "height": 447
        },
        "id": "u6VGet1G9EB0",
        "outputId": "21a94e7a-70ab-41fe-b162-809748f9fe7c"
      },
      "outputs": [],
      "source": [
        "df2_adult.age.plot.hist(bins=50)"
      ]
    },
    {
      "cell_type": "code",
      "execution_count": null,
      "metadata": {
        "cellView": "form",
        "id": "-ZXxrKQsaL9P"
      },
      "outputs": [],
      "source": [
        "#@title Split: x_train2_adult / x_val2_adult / x_test2_adult\n",
        "\n",
        "df2_full_train_adult, x_val2_adult = train_test_split(df2_adult, test_size=0.2, random_state=1)\n",
        "x_train2_adult, x_test2_adult = train_test_split(df2_full_train_adult, test_size=0.25, random_state=1)\n",
        "\n",
        "x_train2_adult = x_train2_adult.reset_index(drop=True)\n",
        "x_val2_adult = x_val2_adult.reset_index(drop=True)\n",
        "x_test2_adult = x_test2_adult.reset_index(drop=True)\n",
        "\n",
        "y_train2_adult = x_train2_adult.stroke.values\n",
        "y_val2_adult = x_val2_adult.stroke.values\n",
        "y_test2_adult = x_test2_adult.stroke.values\n",
        "\n",
        "del x_train2_adult['stroke']\n",
        "del x_val2_adult['stroke']\n",
        "del x_test2_adult['stroke']\n",
        "\n",
        "dv = DictVectorizer(sparse=False)\n",
        "\n",
        "# df2_train_child\n",
        "df2_train2_dict_adult = x_train2_adult.to_dict(orient='records')\n",
        "x_train2_adult = dv.fit_transform(df2_train2_dict_adult)\n",
        "\n",
        "# df2_x_val_adult\n",
        "df2_val2_dict_adult = x_val2_adult.to_dict(orient='records')\n",
        "x_val2_adult = dv.transform(df2_val2_dict_adult)\n",
        "\n",
        "# x_test2_adult\n",
        "df2_test2_dict_adult = x_test2_adult.to_dict(orient='records')\n",
        "x_test2_adult = dv.transform(df2_test2_dict_adult)"
      ]
    },
    {
      "cell_type": "code",
      "execution_count": null,
      "metadata": {
        "id": "bdJtfWL0pq8I"
      },
      "outputs": [],
      "source": [
        "x_train2_adult_smt, y_train2_adult_smt = training_smote(x_train2_adult, y_train2_adult)"
      ]
    },
    {
      "cell_type": "code",
      "execution_count": null,
      "metadata": {
        "colab": {
          "base_uri": "https://localhost:8080/",
          "height": 1000
        },
        "id": "2nc2g3Wreee9",
        "outputId": "cbf01eb8-d375-45fe-b9e0-833a29072433"
      },
      "outputs": [],
      "source": [
        "# selected_models is defined at the end of the section Modeling\n",
        "model_run(best_models,x_train2_adult_smt, y_train2_adult_smt,x_val2_adult,y_val2_adult)"
      ]
    },
    {
      "cell_type": "markdown",
      "metadata": {
        "id": "ftSlcmZEgOfW"
      },
      "source": [
        "All models did worse. Removing children had a negative affect."
      ]
    },
    {
      "cell_type": "markdown",
      "metadata": {
        "id": "XWYJhnztVgpW"
      },
      "source": [
        "<a name=\"modTune\"></a>\n",
        "## Model Tuning"
      ]
    },
    {
      "cell_type": "markdown",
      "metadata": {
        "id": "6zWtuAbhWCYE"
      },
      "source": [
        "### LogisticRegression Tunning\n",
        "[Article](https://machinelearningmastery.com/hyperparameters-for-classification-machine-learning-algorithms/)"
      ]
    },
    {
      "cell_type": "code",
      "execution_count": null,
      "metadata": {
        "id": "hCgmP8iPWaWF"
      },
      "outputs": [],
      "source": [
        "log_model = LogisticRegression(max_iter=4000, random_state=10)"
      ]
    },
    {
      "cell_type": "code",
      "execution_count": null,
      "metadata": {
        "colab": {
          "base_uri": "https://localhost:8080/"
        },
        "id": "Y_YbQ6dfWmxG",
        "outputId": "1fa3c04f-42e0-46fd-cbf1-6d11bf817343"
      },
      "outputs": [],
      "source": [
        "# define LogisticRegression and parameters\n",
        "model = log_model\n",
        "solvers = ['newton-cg', 'lbfgs', 'liblinear']\n",
        "penalty = ['l2']\n",
        "c_values = [100, 10, 1.0, 0.1, 0.01,0.001]\n",
        "# define grid search\n",
        "grid = dict(solver=solvers,penalty=penalty,C=c_values)\n",
        "cv = RepeatedStratifiedKFold(n_splits=10, n_repeats=3, random_state=10)\n",
        "grid_search = GridSearchCV(estimator=model, param_grid=grid, n_jobs=-1, cv=cv, scoring='accuracy',error_score=0)\n",
        "grid_result = grid_search.fit(x_train2, y_train2) # defined in the modeling section\n",
        "# summarize results\n",
        "print(\"Best: %f using %s\" % (grid_result.best_score_, grid_result.best_params_))\n",
        "means = grid_result.cv_results_['mean_test_score']\n",
        "stds = grid_result.cv_results_['std_test_score']\n",
        "params = grid_result.cv_results_['params']\n",
        "for mean, stdev, param in zip(means, stds, params):\n",
        "    print(\"%f (%f) with: %r\" % (mean, stdev, param))"
      ]
    },
    {
      "cell_type": "markdown",
      "metadata": {
        "id": "Q6mcUJSiYnxA"
      },
      "source": [
        "As noted previously, we need possitive stroke prediction first and model statistics second. Using the above results gives us a guidline to test against but it is limited in that is looing at model performace and not taking into account possitive stroke prediction."
      ]
    },
    {
      "cell_type": "code",
      "execution_count": null,
      "metadata": {
        "id": "nz7FSscSWpoa"
      },
      "outputs": [],
      "source": [
        "# Final model comparison\n",
        "log_model_opt = [('liblinear', LogisticRegression(max_iter=4000, random_state=10,C=0.1,penalty='l2',solver='liblinear')),\n",
        "                 ('newton-cg', LogisticRegression(max_iter=4000, random_state=10,C=0.1,penalty='l2',solver='newton-cg')),\n",
        "                 ('lbfgs', LogisticRegression(max_iter=4000, random_state=10,C=0.1,penalty='l2',solver='lbfgs')),\n",
        "                 ('Default', LogisticRegression(max_iter=4000, random_state=10))]"
      ]
    },
    {
      "cell_type": "code",
      "execution_count": null,
      "metadata": {
        "colab": {
          "base_uri": "https://localhost:8080/",
          "height": 1000
        },
        "id": "6gscijt8WtLG",
        "outputId": "26f80626-c954-4416-ddd5-d7e79912daef"
      },
      "outputs": [],
      "source": [
        "model_run(log_model_opt,x_train2_smt,y_train2_smt,x_val2,y_val2)"
      ]
    },
    {
      "cell_type": "markdown",
      "metadata": {
        "id": "2OeclXBliPSe"
      },
      "source": [
        "**Logistic Regression**, `LogisticRegression(max_iter=4000, random_state=10,C=0.1,penalty='l2',solver='liblinear')` is the best performing."
      ]
    },
    {
      "cell_type": "code",
      "execution_count": null,
      "metadata": {
        "id": "OAgtRCupUmry"
      },
      "outputs": [],
      "source": [
        "#@title Optimized Log Model\n",
        "\n",
        "log_model = LogisticRegression(max_iter=4000, random_state=10,C=0.1,penalty='l2',solver='liblinear')"
      ]
    },
    {
      "cell_type": "markdown",
      "metadata": {
        "id": "1X1NmjoNWbI2"
      },
      "source": [
        "### LinearDiscriminantAnalysis Tuning\n",
        "[Article](https://machinelearningmastery.com/linear-discriminant-analysis-for-machine-learning/)"
      ]
    },
    {
      "cell_type": "code",
      "execution_count": null,
      "metadata": {
        "id": "ha1ot-0MeDku"
      },
      "outputs": [],
      "source": [
        "lda_models = [('svd', LinearDiscriminantAnalysis(solver='svd')),\n",
        "          ('lsqr', LinearDiscriminantAnalysis(solver='lsqr')),\n",
        "          ('eigen', LinearDiscriminantAnalysis(shrinkage='auto',solver='eigen'))]"
      ]
    },
    {
      "cell_type": "code",
      "execution_count": null,
      "metadata": {
        "colab": {
          "base_uri": "https://localhost:8080/",
          "height": 1000
        },
        "id": "aAeuao-qgfTD",
        "outputId": "bbf194fc-7796-4c73-8de9-d7074be70771"
      },
      "outputs": [],
      "source": [
        "model_run(lda_models,x_train2_smt,y_train2_smt,x_val2,y_val2)"
      ]
    },
    {
      "cell_type": "markdown",
      "metadata": {
        "id": "iKxCEhY5hKDs"
      },
      "source": [
        "The Model `LinearDiscriminantAnalysis(solver='svd')` outperfomred Logistic Regression models."
      ]
    },
    {
      "cell_type": "code",
      "execution_count": null,
      "metadata": {
        "id": "BbjN5FjFEZQk"
      },
      "outputs": [],
      "source": [
        "lda_model = LinearDiscriminantAnalysis(solver='svd')"
      ]
    },
    {
      "cell_type": "markdown",
      "metadata": {
        "id": "_cNsJ9OqX8_0"
      },
      "source": [
        "### SVM Tuning"
      ]
    },
    {
      "cell_type": "markdown",
      "metadata": {
        "id": "-frMSYbDfs5W"
      },
      "source": [
        "#### SVM hyperparamerts tuning using [GridSearchCV](https://scikit-learn.org/stable/modules/generated/sklearn.model_selection.GridSearchCV.html)"
      ]
    },
    {
      "cell_type": "code",
      "execution_count": null,
      "metadata": {
        "colab": {
          "base_uri": "https://localhost:8080/"
        },
        "id": "6ek34I2Lcffp",
        "outputId": "bf2f1673-f0a7-40b4-9698-6622ac9e30ff"
      },
      "outputs": [],
      "source": [
        "# baseline\n",
        "# train the model on train set\n",
        "model =  SVC(probability = True,random_state=10)\n",
        "model.fit(x_train2_smt, y_train2_smt)\n",
        "\n",
        "# print prediction results\n",
        "predictions = model.predict(x_val)\n",
        "print(classification_report(y_val, predictions))"
      ]
    },
    {
      "cell_type": "code",
      "execution_count": null,
      "metadata": {
        "colab": {
          "base_uri": "https://localhost:8080/",
          "height": 1000
        },
        "id": "r8n38sgFeuG_",
        "outputId": "024f65cc-4bdd-46fe-fe68-02ff8f58f776"
      },
      "outputs": [],
      "source": [
        "# defining parameter range\n",
        "param_grid = {'C': [0.1, 1, 10, 100, 1000],\n",
        "              'gamma': [1, 0.1, 0.01, 0.001, 0.0001],\n",
        "              'kernel': ['rbf']}\n",
        "\n",
        "grid = GridSearchCV(SVC(), param_grid, refit = True, verbose = 3)\n",
        "\n",
        "# fitting the model for grid search\n",
        "grid.fit(x_train, y_train)"
      ]
    },
    {
      "cell_type": "code",
      "execution_count": null,
      "metadata": {
        "colab": {
          "base_uri": "https://localhost:8080/"
        },
        "id": "XtXuGu6YfXK8",
        "outputId": "31d96ace-b9d9-4ce1-abac-4cfe934e8a75"
      },
      "outputs": [],
      "source": [
        "# print best parameter after tuning\n",
        "print(grid.best_params_)\n",
        "\n",
        "# print how our model looks after hyper-parameter tuning\n",
        "print(grid.best_estimator_)"
      ]
    },
    {
      "cell_type": "code",
      "execution_count": null,
      "metadata": {
        "colab": {
          "base_uri": "https://localhost:8080/"
        },
        "id": "mL6e391qfYb2",
        "outputId": "9d5e2520-ba6d-43f3-cfff-e3c8e0021f8f"
      },
      "outputs": [],
      "source": [
        "grid_predictions = grid.predict(x_train2_smt)\n",
        "\n",
        "# print classification report\n",
        "print(classification_report(y_train2_smt, grid_predictions))"
      ]
    },
    {
      "cell_type": "code",
      "execution_count": null,
      "metadata": {
        "colab": {
          "base_uri": "https://localhost:8080/",
          "height": 1000
        },
        "id": "8D-ryQ9qfeXx",
        "outputId": "00243449-44c0-44cd-a309-76d45395b870"
      },
      "outputs": [],
      "source": [
        "svc_models =[('rbf',SVC(kernel='rbf',probability = True,random_state=10,C=0.1,gamma=1)),('Default',SVC(probability = True,random_state=10))]\n",
        "model_run(svc_models, x_train2_smt,y_train2_smt,x_val2,y_val2)"
      ]
    },
    {
      "cell_type": "markdown",
      "metadata": {
        "id": "z7ZH1mkrioGQ"
      },
      "source": [
        "Tuning lead to overfitting and poor predictive accracy for stroke positive observations. Default svc is the better of the two.\n",
        "\n",
        "Best overall model however is `lda_model = LinearDiscriminantAnalysis(solver='svd')`"
      ]
    },
    {
      "cell_type": "markdown",
      "metadata": {
        "id": "D_B2kzLihlK7"
      },
      "source": [
        "### Final Model selection"
      ]
    },
    {
      "cell_type": "code",
      "execution_count": null,
      "metadata": {
        "id": "vRVdmuvKhoZF"
      },
      "outputs": [],
      "source": [
        "final_model = [('lda_model', LinearDiscriminantAnalysis(solver='svd'))]"
      ]
    },
    {
      "cell_type": "code",
      "execution_count": null,
      "metadata": {
        "id": "j4x_tLNL17Zv"
      },
      "outputs": [],
      "source": [
        "#@title def model_test(models)\n",
        "\n",
        "def model_test(models):\n",
        "  for name, model in models:\n",
        "      model = model\n",
        "\n",
        "      print(\" \")\n",
        "      print(\"Model: \",name)\n",
        "      print('Testing Accuracy: ', accuracy_score(y_test2, model.predict(x_test2)))\n",
        "      print(\" \")\n",
        "\n",
        "      plt.figure()\n",
        "      cf_matrix = confusion_matrix(y_test2, model.predict(x_test2))\n",
        "      plt.title('Confusion Matrix: {}'.format(name))\n",
        "      sns.heatmap(cf_matrix, annot = True, fmt = 'g', cmap = sns.cubehelix_palette(as_cmap=True))\n",
        "      plt.show()\n",
        "\n",
        "      print(\" \")\n",
        "\n",
        "      skplt.metrics.plot_roc(y_test2, model.predict_proba(x_test2))\n",
        "      plt.title('ROC Curves: {}'.format(name))\n",
        "      plt.show()"
      ]
    },
    {
      "cell_type": "code",
      "execution_count": null,
      "metadata": {
        "colab": {
          "base_uri": "https://localhost:8080/",
          "height": 1000
        },
        "id": "c6uICoHZn6n8",
        "outputId": "3b024fba-88fe-4ebe-b439-8b5e32d98450"
      },
      "outputs": [],
      "source": [
        "model_run(final_model,x_train2_smt,y_train2_smt,x_val2,y_val2)"
      ]
    },
    {
      "cell_type": "code",
      "execution_count": null,
      "metadata": {
        "colab": {
          "base_uri": "https://localhost:8080/",
          "height": 994
        },
        "id": "ya7lc0aI2jZl",
        "outputId": "23a4a432-5314-4907-c11d-5f4f67aad045"
      },
      "outputs": [],
      "source": [
        "model_test(final_model)"
      ]
    },
    {
      "cell_type": "markdown",
      "metadata": {
        "id": "c9VGxAtiroCf"
      },
      "source": [
        "<a name=\"deploy\"></a>\n",
        "# Deployment"
      ]
    },
    {
      "cell_type": "markdown",
      "metadata": {
        "id": "ls1a8o84pN3t"
      },
      "source": [
        "**This is the code for creating the bento, cannot access service on Google Colab.**"
      ]
    },
    {
      "cell_type": "markdown",
      "metadata": {
        "id": "mLDqdhkXyrQz"
      },
      "source": [
        "## Data prep"
      ]
    },
    {
      "cell_type": "markdown",
      "metadata": {
        "id": "QCvXKTJL2aBc"
      },
      "source": [
        "## Model"
      ]
    },
    {
      "cell_type": "code",
      "execution_count": null,
      "metadata": {
        "colab": {
          "base_uri": "https://localhost:8080/"
        },
        "id": "8d-fFp9fihRE",
        "outputId": "77df27c5-34e5-40e4-fca8-d68db8ab33fc"
      },
      "outputs": [],
      "source": [
        "df2.iloc[6] # is the index of a stroke possitive patient"
      ]
    },
    {
      "cell_type": "markdown",
      "metadata": {
        "id": "rYEn-Rcj7bNx"
      },
      "source": [
        "**JSON format**\n",
        "{\n",
        "\"gender\": \"Male\",\n",
        "\"age\": 74.0,\n",
        "\"hypertension\": 1,\n",
        "\"heart_disease\": 1,\n",
        "\"ever_married\": Yes,\n",
        "\"work_type\": \"Private\",\n",
        "\"residence_type\": \"Rural\",\n",
        "\"smoking_status\": \"never smoked\",\n",
        "\"obese\": False,\n",
        "\"diabetes\": False\n",
        "}"
      ]
    },
    {
      "cell_type": "code",
      "execution_count": null,
      "metadata": {
        "id": "TIkVHgxy3R15"
      },
      "outputs": [],
      "source": [
        "model = LinearDiscriminantAnalysis(solver='svd')"
      ]
    },
    {
      "cell_type": "code",
      "execution_count": null,
      "metadata": {
        "id": "WfgXJB9HvkcZ"
      },
      "outputs": [],
      "source": [
        "model.fit(x_train2_smt, y_train2_smt)\n",
        "y_pred = model.predict_proba(x_test2)"
      ]
    },
    {
      "cell_type": "code",
      "execution_count": null,
      "metadata": {
        "colab": {
          "base_uri": "https://localhost:8080/"
        },
        "id": "noFmFf8V16RA",
        "outputId": "c7856b1f-10ff-40f7-8943-0fd4a5856c17"
      },
      "outputs": [],
      "source": [
        "len(x_test2), len(y_pred)"
      ]
    },
    {
      "cell_type": "code",
      "execution_count": null,
      "metadata": {
        "colab": {
          "base_uri": "https://localhost:8080/"
        },
        "id": "o-RkPjx90-zJ",
        "outputId": "c9fe28e0-2c02-4342-8188-0ef32521dc5d"
      },
      "outputs": [],
      "source": [
        "y_pred[6,1] # 6 is the index of a stroke possitive patient, 1 is prediction probability"
      ]
    },
    {
      "cell_type": "markdown",
      "metadata": {
        "id": "O5XtPeuHkdXL"
      },
      "source": [
        "<a name=\"bento\"></a>\n",
        "## Bentoml"
      ]
    },
    {
      "cell_type": "code",
      "execution_count": null,
      "metadata": {
        "id": "6ZbFGYZIKgV7"
      },
      "outputs": [],
      "source": [
        "df2.to_csv('clean_stroke_data.csv', index=False)"
      ]
    },
    {
      "cell_type": "code",
      "execution_count": null,
      "metadata": {
        "colab": {
          "base_uri": "https://localhost:8080/"
        },
        "id": "IpCivJvTezQE",
        "outputId": "62f92441-6f8c-459e-b534-6a5119be67b4"
      },
      "outputs": [],
      "source": [
        "%%writefile training.py\n",
        "\n",
        "# Script to train and save model\n",
        "\n",
        "from sklearn.model_selection import train_test_split\n",
        "from sklearn.svm import SVC\n",
        "from sklearn.feature_extraction import DictVectorizer\n",
        "from imblearn.over_sampling import SMOTE\n",
        "import bentoml\n",
        "\n",
        "\n",
        "df = pd.read_csv('clean_stroke_data.csv') # csv must be in same directory\n",
        "\n",
        "# data split\n",
        "df_train, df_test = train_test_split(df, test_size=0.2, random_state=1)\n",
        "\n",
        "df_train = df_train.reset_index(drop=True)\n",
        "df_test = df_test.reset_index(drop=True)\n",
        "\n",
        "y_train = df_train.stroke.values\n",
        "y_test = df_test.stroke.values\n",
        "\n",
        "del df_train['stroke']\n",
        "del df_test['stroke']\n",
        "\n",
        "# x_train\n",
        "train_dict = df_train.to_dict(orient='records')\n",
        "\n",
        "dv = DictVectorizer(sparse=False)\n",
        "x_train = dv.fit_transform(train_dict)\n",
        "\n",
        "# x_test\n",
        "test_dict = df_test.to_dict(orient='records')\n",
        "x_test = dv.transform(test_dict)\n",
        "\n",
        "# ONLY APPLY SMOTE TO TRAIN!\n",
        "def training_smote(x,y):\n",
        "    smt = SMOTE(random_state=1)\n",
        "    x_train, y_train = smt.fit_resample(x, y)\n",
        "    return x_train, y_train\n",
        "\n",
        "# SMOTE\n",
        "x_train_smt, y_train_smt = training_smote(x_train, y_train)\n",
        "len(x_train), len(y_train)\n",
        "\n",
        "# Train model\n",
        "model = LinearDiscriminantAnalysis(solver='svd')\n",
        "\n",
        "model.fit(x_trai_smt, y_train_smt)\n",
        "\n",
        "bentoml.sklearn.save_model('stroke_prediction', model,\n",
        "                           custom_objects={\n",
        "                               'dicVectorizer': dv\n",
        "                           },\n",
        "                           signatures = {\"predict_proba\": {\"batchable\": False}}\n",
        "                           )"
      ]
    },
    {
      "cell_type": "markdown",
      "metadata": {
        "id": "in5hUhBEijkj"
      },
      "source": [
        "**Save Model**"
      ]
    },
    {
      "cell_type": "code",
      "execution_count": null,
      "metadata": {
        "colab": {
          "base_uri": "https://localhost:8080/"
        },
        "id": "sphJ0uuUUswG",
        "outputId": "258b4026-c0d6-41cf-9113-293376730fbc"
      },
      "outputs": [],
      "source": [
        "# save model from notebook\n",
        "bentoml.sklearn.save_model('stroke_prediction', model,\n",
        "                           custom_objects={\n",
        "                               'dicVectorizer': dv\n",
        "                           },\n",
        "                           signatures = {\"predict_proba\": {\"batchable\": False}}\n",
        "                           )"
      ]
    },
    {
      "cell_type": "markdown",
      "metadata": {
        "id": "9bphwrJG0M3H"
      },
      "source": [
        "**service.py file, service that runs.**"
      ]
    },
    {
      "cell_type": "markdown",
      "metadata": {
        "id": "pClFuD5oNAhu"
      },
      "source": [
        "[Risk Rates](https://www.betterhealth.vic.gov.au/health/conditionsandtreatments/heart-disease-and-stroke-your-risk-score)\n",
        "\n",
        "Calculate a percentage score (or absolute risk), which puts you into one of three categories of risk:\n",
        "\n",
        "* **High risk** – a score over 15% means you are at high risk. If you have a score over 15%, you have at least a 1 in 7 chance of having a heart attack or stroke in the next five years, if nothing is changed.\n",
        "* **Moderate risk** – a score of between 10% and 15%, you have (as a minimum), a 1 in 10 chance of having a heart attack or stroke in the next five years, if nothing is changed.\n",
        "* **Low risk** – a score under 10%, you have a less than 1 in 10 chance of having a heart attack or stroke in the next five years, if nothing is changed."
      ]
    },
    {
      "cell_type": "code",
      "execution_count": null,
      "metadata": {
        "id": "3ELX34qCvGEG"
      },
      "outputs": [],
      "source": [
        "%%writefile service.py\n",
        "\n",
        "import bentoml\n",
        "from bentoml.io import JSON\n",
        "import numpy as np\n",
        "\n",
        "model_ref = bentoml.sklearn.get('stroke_prediction:latest')\n",
        "dv = model_ref.custom_objects['dicVectorizer']\n",
        "\n",
        "model_runner = model_ref.to_runner()\n",
        "\n",
        "svc = bentoml.Service('stroke_prediction', runners=[model_runner])\n",
        "\n",
        "@svc.api(input= JSON.from_sample({\n",
        "      \"gender\": \"Male\",\n",
        "      \"age\": 74.0,\n",
        "      \"hypertension\": 1,\n",
        "      \"heart_disease\": 1,\n",
        "      \"ever_married\": Yes,\n",
        "      \"work_type\": \"Private\",\n",
        "      \"residence_type\": \"Rural\",\n",
        "      \"smoking_status\": \"never smoked\",\n",
        "      \"obese\": False,\n",
        "      \"diabetes\": False\n",
        "        }), output= JSON())\n",
        "\n",
        "def classify(application_data):\n",
        "    vector = dv.transform(application_data)\n",
        "    prediction = model_runner.predict_proba.run(vector)\n",
        "    # np.format_float_positional returns a string\n",
        "    round_predict = float(np.format_float_positional(prediction[:,1], precision=2))\n",
        "\n",
        "    if round_predict < 0.10:\n",
        "        return 'Stroke Risk: LOW'\n",
        "    elif (round_predict => 0.10) & (round_predict =< 0.15):\n",
        "        return 'Stroke Risk: MODERATE'\n",
        "    else:\n",
        "        return 'Stroke Risk: HIGH'"
      ]
    },
    {
      "cell_type": "markdown",
      "metadata": {
        "id": "5hWVEMS26BL0"
      },
      "source": [
        "**Bento .yaml file file needed to build the bento**"
      ]
    },
    {
      "cell_type": "code",
      "execution_count": null,
      "metadata": {
        "colab": {
          "base_uri": "https://localhost:8080/"
        },
        "id": "WFAuaskIiP-0",
        "outputId": "e8a8ccfe-6004-40aa-9f65-3d4256e55aa2"
      },
      "outputs": [],
      "source": [
        "%%writefile bentofile.yaml\n",
        "\n",
        "service: \"service.py:svc\"\n",
        "labels:\n",
        "  owner: Gregory Morris\n",
        "  project: MLZoomcamp midterm project\n",
        "include:\n",
        "- \"*.py\"\n",
        "python:\n",
        "    packages:  # Additional pip packages required by the service\n",
        "    - scikit-learn\n",
        "    - numpy\n",
        "    - bentoml"
      ]
    },
    {
      "cell_type": "markdown",
      "metadata": {
        "id": "p3a_B7BDtQRj"
      },
      "source": [
        "**Build the bento from the yaml file**"
      ]
    },
    {
      "cell_type": "markdown",
      "metadata": {
        "id": "79TngSR-uTk6"
      },
      "source": [
        "**bentoml commands:**\n",
        "* build bento: `bentoml build`\n",
        "\n",
        "* docker container: `bentoml containerize [bento name:code given after 'bentoml build']`\n",
        "\n",
        "* *make sure docker service is running if setting up locally. Then run this command line:*\n",
        "\n",
        "    * run docker contianer: `docker run -it --rm -p 3000:3000 [bento name:code given after 'bentoml build'] serve --production`"
      ]
    },
    {
      "cell_type": "markdown",
      "metadata": {
        "id": "Sl-lBaAD1F8Q"
      },
      "source": [
        "## AWS\n",
        "See README.md for AWS instructions."
      ]
    },
    {
      "cell_type": "markdown",
      "metadata": {
        "id": "JjvjH6OJD8Ll"
      },
      "source": [
        "## Production App Access\n",
        "See README.md for App access instructions."
      ]
    },
    {
      "cell_type": "markdown",
      "metadata": {
        "id": "Q9Zp76Ae-C9C"
      },
      "source": [
        "# Next steps"
      ]
    },
    {
      "cell_type": "markdown",
      "metadata": {
        "id": "hxucKTlv-G3U"
      },
      "source": [
        "* Review outliers and test against model\n",
        "* Consider AWS Lambda as alternative to ECS\n",
        "* Investigate gradio and streamlit as front end options\n",
        "* Consider ensamble methods to improve predictions\n"
      ]
    }
  ],
  "metadata": {
    "colab": {
      "include_colab_link": true,
      "provenance": []
    },
    "kernelspec": {
      "display_name": "Python 3 (ipykernel)",
      "language": "python",
      "name": "python3"
    },
    "language_info": {
      "codemirror_mode": {
        "name": "ipython",
        "version": 3
      },
      "file_extension": ".py",
      "mimetype": "text/x-python",
      "name": "python",
      "nbconvert_exporter": "python",
      "pygments_lexer": "ipython3",
      "version": "3.11.8"
    }
  },
  "nbformat": 4,
  "nbformat_minor": 0
}
